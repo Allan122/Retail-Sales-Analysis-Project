{
 "cells": [
  {
   "cell_type": "markdown",
   "id": "b9dcfdeb-74b2-4915-a036-3a57022a64ac",
   "metadata": {},
   "source": [
    "# Retail Sales & Customer Behavior Analysis"
   ]
  },
  {
   "cell_type": "code",
   "execution_count": 17,
   "id": "a837d130-d2a1-44bb-8975-681ddc68afec",
   "metadata": {},
   "outputs": [
    {
     "name": "stdout",
     "output_type": "stream",
     "text": [
      "  InvoiceNo StockCode                          Description  Quantity  \\\n",
      "0    536365    85123A   WHITE HANGING HEART T-LIGHT HOLDER         6   \n",
      "1    536365     71053                  WHITE METAL LANTERN         6   \n",
      "2    536365    84406B       CREAM CUPID HEARTS COAT HANGER         8   \n",
      "3    536365    84029G  KNITTED UNION FLAG HOT WATER BOTTLE         6   \n",
      "4    536365    84029E       RED WOOLLY HOTTIE WHITE HEART.         6   \n",
      "\n",
      "      InvoiceDate  UnitPrice  CustomerID         Country  \n",
      "0  12/1/2010 8:26       2.55     17850.0  United Kingdom  \n",
      "1  12/1/2010 8:26       3.39     17850.0  United Kingdom  \n",
      "2  12/1/2010 8:26       2.75     17850.0  United Kingdom  \n",
      "3  12/1/2010 8:26       3.39     17850.0  United Kingdom  \n",
      "4  12/1/2010 8:26       3.39     17850.0  United Kingdom  \n"
     ]
    }
   ],
   "source": [
    "import pandas as pd\n",
    "\n",
    "# Using a raw string to correctly handle the file path\n",
    "file_path = r\"C:\\Users\\hp\\Downloads\\OnlineRetail.csv\"\n",
    "\n",
    "# Add the encoding parameter to fix the UnicodeDecodeError\n",
    "# Latin 1 is the common encoding for this type of data\n",
    "df = pd.read_csv(file_path, encoding = 'latin1')\n",
    "\n",
    "# Display the first 5 rows to make sure that it loaded correctly\n",
    "print(df.head())"
   ]
  },
  {
   "cell_type": "code",
   "execution_count": 18,
   "id": "6ebe292c-f0d1-4bcb-acd3-52d715afdc46",
   "metadata": {},
   "outputs": [
    {
     "name": "stdout",
     "output_type": "stream",
     "text": [
      "InvoiceNo           0\n",
      "StockCode           0\n",
      "Description      1454\n",
      "Quantity            0\n",
      "InvoiceDate         0\n",
      "UnitPrice           0\n",
      "CustomerID     135080\n",
      "Country             0\n",
      "dtype: int64\n"
     ]
    }
   ],
   "source": [
    "# Check the number of missing values in each column\n",
    "print(df.isnull().sum())"
   ]
  },
  {
   "cell_type": "code",
   "execution_count": 19,
   "id": "3a6f95c8-edba-42f8-8d46-8c221ce5394b",
   "metadata": {},
   "outputs": [
    {
     "name": "stdout",
     "output_type": "stream",
     "text": [
      "Number of duplicate rows: 5268\n"
     ]
    }
   ],
   "source": [
    "# Check for duplicate row in the entire dataframe\n",
    "print(f\"Number of duplicate rows: {df.duplicated().sum()}\")"
   ]
  },
  {
   "cell_type": "code",
   "execution_count": 20,
   "id": "0498953e-4937-4aca-943d-b0d5f5671446",
   "metadata": {},
   "outputs": [
    {
     "name": "stdout",
     "output_type": "stream",
     "text": [
      "<class 'pandas.core.frame.DataFrame'>\n",
      "RangeIndex: 541909 entries, 0 to 541908\n",
      "Data columns (total 8 columns):\n",
      " #   Column       Non-Null Count   Dtype  \n",
      "---  ------       --------------   -----  \n",
      " 0   InvoiceNo    541909 non-null  object \n",
      " 1   StockCode    541909 non-null  object \n",
      " 2   Description  540455 non-null  object \n",
      " 3   Quantity     541909 non-null  int64  \n",
      " 4   InvoiceDate  541909 non-null  object \n",
      " 5   UnitPrice    541909 non-null  float64\n",
      " 6   CustomerID   406829 non-null  float64\n",
      " 7   Country      541909 non-null  object \n",
      "dtypes: float64(2), int64(1), object(5)\n",
      "memory usage: 33.1+ MB\n"
     ]
    }
   ],
   "source": [
    "# Get a consice summary of the dataframe\n",
    "df.info()"
   ]
  },
  {
   "cell_type": "code",
   "execution_count": 21,
   "id": "406a8d2f-2d66-4e03-9e85-fce6704cf059",
   "metadata": {},
   "outputs": [
    {
     "name": "stdout",
     "output_type": "stream",
     "text": [
      "Number of duplicates row after removal: 0\n"
     ]
    }
   ],
   "source": [
    "# Data Cleaning\n",
    "# Remove duplicate rows and keep the first occurence\n",
    "df.drop_duplicates(inplace = True)\n",
    "\n",
    "# Verify that duplicates have been removed\n",
    "print(f\"Number of duplicates row after removal: {df.duplicated().sum()}\")"
   ]
  },
  {
   "cell_type": "code",
   "execution_count": 22,
   "id": "d98e1a68-2138-43ad-9cce-a2907c8532c7",
   "metadata": {},
   "outputs": [
    {
     "name": "stdout",
     "output_type": "stream",
     "text": [
      "InvoiceNo      0\n",
      "StockCode      0\n",
      "Description    0\n",
      "Quantity       0\n",
      "InvoiceDate    0\n",
      "UnitPrice      0\n",
      "CustomerID     0\n",
      "Country        0\n",
      "dtype: int64\n"
     ]
    }
   ],
   "source": [
    "# Remove rows where CustomerID is missing\n",
    "df.dropna(subset=['CustomerID'], inplace = True)\n",
    "\n",
    "# Verify that missing CustomerID values have been removed\n",
    "print(df.isnull().sum())"
   ]
  },
  {
   "cell_type": "code",
   "execution_count": 23,
   "id": "a1ed784e-ec0d-43e4-b269-7521ef8bf3c0",
   "metadata": {},
   "outputs": [
    {
     "name": "stdout",
     "output_type": "stream",
     "text": [
      "<class 'pandas.core.frame.DataFrame'>\n",
      "Index: 401604 entries, 0 to 541908\n",
      "Data columns (total 8 columns):\n",
      " #   Column       Non-Null Count   Dtype  \n",
      "---  ------       --------------   -----  \n",
      " 0   InvoiceNo    401604 non-null  object \n",
      " 1   StockCode    401604 non-null  object \n",
      " 2   Description  401604 non-null  object \n",
      " 3   Quantity     401604 non-null  int64  \n",
      " 4   InvoiceDate  401604 non-null  object \n",
      " 5   UnitPrice    401604 non-null  float64\n",
      " 6   CustomerID   401604 non-null  float64\n",
      " 7   Country      401604 non-null  object \n",
      "dtypes: float64(2), int64(1), object(5)\n",
      "memory usage: 27.6+ MB\n"
     ]
    }
   ],
   "source": [
    "# Checking the information for converting Invoicedate - Datetime\n",
    "df.info()"
   ]
  },
  {
   "cell_type": "code",
   "execution_count": 24,
   "id": "f66e2489-f6dd-4d35-a4c3-d9fdedd3397b",
   "metadata": {},
   "outputs": [
    {
     "name": "stdout",
     "output_type": "stream",
     "text": [
      "<class 'pandas.core.frame.DataFrame'>\n",
      "Index: 401604 entries, 0 to 541908\n",
      "Data columns (total 8 columns):\n",
      " #   Column       Non-Null Count   Dtype         \n",
      "---  ------       --------------   -----         \n",
      " 0   InvoiceNo    401604 non-null  object        \n",
      " 1   StockCode    401604 non-null  object        \n",
      " 2   Description  401604 non-null  object        \n",
      " 3   Quantity     401604 non-null  int64         \n",
      " 4   InvoiceDate  401604 non-null  datetime64[ns]\n",
      " 5   UnitPrice    401604 non-null  float64       \n",
      " 6   CustomerID   401604 non-null  float64       \n",
      " 7   Country      401604 non-null  object        \n",
      "dtypes: datetime64[ns](1), float64(2), int64(1), object(4)\n",
      "memory usage: 27.6+ MB\n"
     ]
    }
   ],
   "source": [
    "# Converting InvoiceDate to datetime\n",
    "df['InvoiceDate'] = pd.to_datetime(df['InvoiceDate'])\n",
    "\n",
    "# Verify the data type has been changed\n",
    "df.info()"
   ]
  },
  {
   "cell_type": "code",
   "execution_count": 25,
   "id": "fd811886-3660-45e1-ae5a-d276c96b1ab1",
   "metadata": {},
   "outputs": [
    {
     "name": "stdout",
     "output_type": "stream",
     "text": [
      "Number of negative quantity values: 8872\n",
      "Number of negative unit price values: 0\n"
     ]
    }
   ],
   "source": [
    "# Check for negative values in 'Quantity'\n",
    "print(f\"Number of negative quantity values: {(df['Quantity']<0).sum()}\")\n",
    "\n",
    "# Check for negative values in 'unit prices'\n",
    "print(f\"Number of negative unit price values: {(df['UnitPrice']<0).sum()}\")"
   ]
  },
  {
   "cell_type": "code",
   "execution_count": 26,
   "id": "718f1d70-8de2-4d55-866c-6e44964c8282",
   "metadata": {},
   "outputs": [],
   "source": [
    "# Create a new DataFrame containing only the returns (where Quantity is negative)\n",
    "return_df = df[df['Quantity'] < 0]\n",
    "\n",
    "# Create our main sales DataFrame containing only positive quantities\n",
    "sales_df = df[df['Quantity'] > 0]"
   ]
  },
  {
   "cell_type": "code",
   "execution_count": 27,
   "id": "b970fc0d-4478-459a-acf9-0d615dba392d",
   "metadata": {},
   "outputs": [
    {
     "name": "stdout",
     "output_type": "stream",
     "text": [
      "Number of negative quantity values in sales data: 0\n",
      "Final sales DataFrame size: (392732, 8)\n"
     ]
    }
   ],
   "source": [
    "# Check for negative quantities in the new sales DataFrame\n",
    "print(f\"Number of negative quantity values in sales data: {(sales_df['Quantity'] < 0).sum()}\")\n",
    "\n",
    "# Print the size of the final sales DataFrame to show how much data we have to work with\n",
    "print(f\"Final sales DataFrame size: {sales_df.shape}\")"
   ]
  },
  {
   "cell_type": "code",
   "execution_count": 28,
   "id": "7ac94181-d170-439a-bf0e-9d2bbc36bcb0",
   "metadata": {},
   "outputs": [
    {
     "name": "stdout",
     "output_type": "stream",
     "text": [
      "  InvoiceNo StockCode                          Description  Quantity  \\\n",
      "0    536365    85123A   WHITE HANGING HEART T-LIGHT HOLDER         6   \n",
      "1    536365     71053                  WHITE METAL LANTERN         6   \n",
      "2    536365    84406B       CREAM CUPID HEARTS COAT HANGER         8   \n",
      "3    536365    84029G  KNITTED UNION FLAG HOT WATER BOTTLE         6   \n",
      "4    536365    84029E       RED WOOLLY HOTTIE WHITE HEART.         6   \n",
      "\n",
      "          InvoiceDate  UnitPrice  CustomerID         Country  Revenue  \n",
      "0 2010-12-01 08:26:00       2.55     17850.0  United Kingdom    15.30  \n",
      "1 2010-12-01 08:26:00       3.39     17850.0  United Kingdom    20.34  \n",
      "2 2010-12-01 08:26:00       2.75     17850.0  United Kingdom    22.00  \n",
      "3 2010-12-01 08:26:00       3.39     17850.0  United Kingdom    20.34  \n",
      "4 2010-12-01 08:26:00       3.39     17850.0  United Kingdom    20.34  \n"
     ]
    },
    {
     "name": "stderr",
     "output_type": "stream",
     "text": [
      "C:\\Users\\hp\\AppData\\Local\\Temp\\ipykernel_11896\\1764290242.py:3: SettingWithCopyWarning: \n",
      "A value is trying to be set on a copy of a slice from a DataFrame.\n",
      "Try using .loc[row_indexer,col_indexer] = value instead\n",
      "\n",
      "See the caveats in the documentation: https://pandas.pydata.org/pandas-docs/stable/user_guide/indexing.html#returning-a-view-versus-a-copy\n",
      "  sales_df['Revenue'] = sales_df['Quantity'] * sales_df['UnitPrice']\n"
     ]
    }
   ],
   "source": [
    " # Exploratory Data Analysis (EDA)\n",
    "# Create a new 'Revenue' column by multiplying 'Quantity' and 'UnitPrice'\n",
    "sales_df['Revenue'] = sales_df['Quantity'] * sales_df['UnitPrice']\n",
    "\n",
    "# Display the first few rows to see the new column\n",
    "print(sales_df.head())"
   ]
  },
  {
   "cell_type": "code",
   "execution_count": 29,
   "id": "15e5c9d6-88cc-4c2b-add8-74d052561c12",
   "metadata": {},
   "outputs": [
    {
     "name": "stdout",
     "output_type": "stream",
     "text": [
      "Top 10 Best-Selling Products by Revenue:\n",
      "Description\n",
      "PAPER CRAFT , LITTLE BIRDIE           168469.60\n",
      "REGENCY CAKESTAND 3 TIER              142264.75\n",
      "WHITE HANGING HEART T-LIGHT HOLDER    100392.10\n",
      "JUMBO BAG RED RETROSPOT                85040.54\n",
      "MEDIUM CERAMIC TOP STORAGE JAR         81416.73\n",
      "POSTAGE                                77803.96\n",
      "PARTY BUNTING                          68785.23\n",
      "ASSORTED COLOUR BIRD ORNAMENT          56413.03\n",
      "Manual                                 53419.93\n",
      "RABBIT NIGHT LIGHT                     51251.24\n",
      "Name: Revenue, dtype: float64\n"
     ]
    }
   ],
   "source": [
    "# Group by 'Description' and sum the 'Revenue' to find the total revenue for each product\n",
    "# Then, sort in descending order and display the top 10\n",
    "top_10_products = sales_df.groupby('Description')['Revenue'].sum().sort_values(ascending=False).head(10)\n",
    "print(\"Top 10 Best-Selling Products by Revenue:\")\n",
    "print(top_10_products)"
   ]
  },
  {
   "cell_type": "code",
   "execution_count": 30,
   "id": "d4bc6368-7a09-475e-bf2e-0a749a8b7c73",
   "metadata": {},
   "outputs": [
    {
     "name": "stdout",
     "output_type": "stream",
     "text": [
      "\n",
      "Top 10 Customers by Total Revenue:\n",
      "CustomerID\n",
      "14646.0    280206.02\n",
      "18102.0    259657.30\n",
      "17450.0    194390.79\n",
      "16446.0    168472.50\n",
      "14911.0    143711.17\n",
      "12415.0    124914.53\n",
      "14156.0    117210.08\n",
      "17511.0     91062.38\n",
      "16029.0     80850.84\n",
      "12346.0     77183.60\n",
      "Name: Revenue, dtype: float64\n"
     ]
    }
   ],
   "source": [
    "# Group by 'CustomerID' and sum the 'Revenue' to find the total revenue for each customer\n",
    "# Then, sort in descending order and display the top 10\n",
    "top_10_customers = sales_df.groupby('CustomerID')['Revenue'].sum().sort_values(ascending=False).head(10)\n",
    "print(\"\\nTop 10 Customers by Total Revenue:\")\n",
    "print(top_10_customers)"
   ]
  },
  {
   "cell_type": "code",
   "execution_count": 31,
   "id": "74aabf3c-f55c-4c34-abcf-974323f6daaf",
   "metadata": {},
   "outputs": [
    {
     "name": "stdout",
     "output_type": "stream",
     "text": [
      "\n",
      "Monthly Sales Trends: \n",
      "Month\n",
      "1      568101.310\n",
      "2      446084.920\n",
      "3      594081.760\n",
      "4      468374.331\n",
      "5      677355.150\n",
      "6      660046.050\n",
      "7      598962.901\n",
      "8      644051.040\n",
      "9      950690.202\n",
      "10    1035642.450\n",
      "11    1156205.610\n",
      "12    1087613.170\n",
      "Name: Revenue, dtype: float64\n"
     ]
    },
    {
     "name": "stderr",
     "output_type": "stream",
     "text": [
      "C:\\Users\\hp\\AppData\\Local\\Temp\\ipykernel_11896\\3544891138.py:3: SettingWithCopyWarning: \n",
      "A value is trying to be set on a copy of a slice from a DataFrame.\n",
      "Try using .loc[row_indexer,col_indexer] = value instead\n",
      "\n",
      "See the caveats in the documentation: https://pandas.pydata.org/pandas-docs/stable/user_guide/indexing.html#returning-a-view-versus-a-copy\n",
      "  sales_df['Month'] = sales_df['InvoiceDate'].dt.month\n"
     ]
    }
   ],
   "source": [
    "# Analyze Monthly Sales Trends\n",
    "# Extract the month from the 'InvoiceDate'\n",
    "sales_df['Month'] = sales_df['InvoiceDate'].dt.month\n",
    "\n",
    "# Group by month and sum the 'Revenue'\n",
    "monthly_sales = sales_df.groupby('Month')['Revenue'].sum()\n",
    "\n",
    "# Print the monthly sales data\n",
    "print(\"\\nMonthly Sales Trends: \")\n",
    "print(monthly_sales)"
   ]
  },
  {
   "cell_type": "code",
   "execution_count": 32,
   "id": "93a9f1d2-e22c-46de-81ad-5c0b0627e990",
   "metadata": {},
   "outputs": [
    {
     "name": "stdout",
     "output_type": "stream",
     "text": [
      "\n",
      "Sales by Country(Top 10): \n",
      "Country\n",
      "United Kingdom    7285024.644\n",
      "Netherlands        285446.340\n",
      "EIRE               265262.460\n",
      "Germany            228678.400\n",
      "France             208934.310\n",
      "Australia          138453.810\n",
      "Spain               61558.560\n",
      "Switzerland         56443.950\n",
      "Belgium             41196.340\n",
      "Sweden              38367.830\n",
      "Name: Revenue, dtype: float64\n"
     ]
    }
   ],
   "source": [
    " # Analyze Sales by Country\n",
    "# Group by 'Country' and sum the 'Revenue'\n",
    "country_sales = sales_df.groupby('Country')['Revenue'].sum().sort_values(ascending = False)\n",
    "\n",
    "# Print the sales data by country\n",
    "print(\"\\nSales by Country(Top 10): \")\n",
    "print(country_sales.head(10))"
   ]
  },
  {
   "cell_type": "code",
   "execution_count": 34,
   "id": "15c0dda8-de8d-477f-adf6-841380ac1223",
   "metadata": {},
   "outputs": [
    {
     "data": {
      "image/png": "[encoded data removed]",
      "text/plain": [
       "<Figure size 1000x600 with 1 Axes>"
      ]
     },
     "metadata": {},
     "output_type": "display_data"
    }
   ],
   "source": [
    "import matplotlib.pyplot as plt\n",
    "\n",
    "# Plotting the monthly sales data\n",
    "monthly_sales.plot(kind='line', figsize=(10, 6))\n",
    "plt.title('Monthly Sales Trends')\n",
    "plt.xlabel('Month')\n",
    "plt.ylabel('Total Revenue (£)')\n",
    "plt.xticks(range(1, 13), ['Jan', 'Feb', 'Mar', 'Apr', 'May', 'Jun', 'Jul', 'Aug', 'Sep', 'Oct', 'Nov', 'Dec'])\n",
    "plt.grid(True)\n",
    "plt.show()"
   ]
  },
  {
   "cell_type": "code",
   "execution_count": 35,
   "id": "ecc8021b-c851-4a9b-a021-bbefcdc7b042",
   "metadata": {},
   "outputs": [
    {
     "data": {
      "image/png": "[encoded data removed]",
      "text/plain": [
       "<Figure size 1000x600 with 1 Axes>"
      ]
     },
     "metadata": {},
     "output_type": "display_data"
    }
   ],
   "source": [
    "# Plotting the top 10 countries by sales\n",
    "country_sales.head(10).plot(kind='bar', figsize=(10, 6))\n",
    "plt.title('Top 10 Countries by Sales Revenue')\n",
    "plt.xlabel('Country')\n",
    "plt.ylabel('Total Revenue (£)')\n",
    "plt.xticks(rotation=45)\n",
    "plt.grid(axis='y')\n",
    "plt.show()"
   ]
  },
  {
   "cell_type": "markdown",
   "id": "b7e3f521-96dc-4222-bc00-86cceac06dc1",
   "metadata": {},
   "source": [
    "---"
   ]
  }
 ],
 "metadata": {
  "kernelspec": {
   "display_name": "Python 3 (ipykernel)",
   "language": "python",
   "name": "python3"
  },
  "language_info": {
   "codemirror_mode": {
    "name": "ipython",
    "version": 3
   },
   "file_extension": ".py",
   "mimetype": "text/x-python",
   "name": "python",
   "nbconvert_exporter": "python",
   "pygments_lexer": "ipython3",
   "version": "3.12.4"
  }
 },
 "nbformat": 4,
 "nbformat_minor": 5
}
